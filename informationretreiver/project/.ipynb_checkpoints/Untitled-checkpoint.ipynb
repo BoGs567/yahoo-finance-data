{
 "cells": [
  {
   "cell_type": "code",
   "execution_count": 9,
   "metadata": {},
   "outputs": [],
   "source": [
    "from GenericScraper import GenericScraper\n",
    "import requests"
   ]
  },
  {
   "cell_type": "code",
   "execution_count": 10,
   "metadata": {},
   "outputs": [],
   "source": [
    "s_url = \"https://sebgroup.com/large-corporates-and-institutions/prospectuses-and-downloads/rates/swap-rates\""
   ]
  },
  {
   "cell_type": "code",
   "execution_count": 13,
   "metadata": {},
   "outputs": [],
   "source": [
    "class SwapDataScraper(GenericScraper):\n",
    "    def __init__(self, currency):\n",
    "        self.currency = currency\n",
    "    \n",
    "    def URLManufacture(self):\n",
    "        return s_url \n",
    "    \n",
    "    def Retreive(self):\n",
    "        URL = self.URLManufacture()\n",
    "        r = requests.get(URL)\n",
    "        assert r.status_code == 200, \"Unsucsessful request to : \\'\" + URL + \"\\'\"\n",
    "        return r\n",
    "        \n",
    "    \n",
    "    def Scrape(self):\n",
    "        pass\n",
    "    \n",
    "    def Display(self):\n",
    "        pass\n",
    "    \n",
    "    def ProcessData(self):\n",
    "        pass\n",
    "    \n",
    "    def Save(self):\n",
    "        pass"
   ]
  },
  {
   "cell_type": "code",
   "execution_count": 17,
   "metadata": {},
   "outputs": [],
   "source": [
    "respone = SwapDataScraper('SEK').Retreive()"
   ]
  },
  {
   "cell_type": "code",
   "execution_count": null,
   "metadata": {},
   "outputs": [],
   "source": [
    "presponse.text"
   ]
  }
 ],
 "metadata": {
  "kernelspec": {
   "display_name": "Python 3",
   "language": "python",
   "name": "python3"
  },
  "language_info": {
   "codemirror_mode": {
    "name": "ipython",
    "version": 3
   },
   "file_extension": ".py",
   "mimetype": "text/x-python",
   "name": "python",
   "nbconvert_exporter": "python",
   "pygments_lexer": "ipython3",
   "version": "3.6.6"
  }
 },
 "nbformat": 4,
 "nbformat_minor": 2
}
